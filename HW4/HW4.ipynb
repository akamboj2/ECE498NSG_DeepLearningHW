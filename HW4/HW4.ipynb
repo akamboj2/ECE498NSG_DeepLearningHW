{
 "cells": [
  {
   "cell_type": "markdown",
   "metadata": {},
   "source": [
    "## Problem 1"
   ]
  },
  {
   "cell_type": "code",
   "execution_count": 4,
   "metadata": {},
   "outputs": [],
   "source": [
    "import matplotlib.pyplot as plt\n",
    "import numpy as np\n",
    "import torch\n",
    "import torchvision\n",
    "from torch import nn"
   ]
  },
  {
   "cell_type": "code",
   "execution_count": 1,
   "metadata": {},
   "outputs": [
    {
     "ename": "SyntaxError",
     "evalue": "invalid syntax (<ipython-input-1-2daec04cffbd>, line 9)",
     "output_type": "error",
     "traceback": [
      "\u001b[1;36m  File \u001b[1;32m\"<ipython-input-1-2daec04cffbd>\"\u001b[1;36m, line \u001b[1;32m9\u001b[0m\n\u001b[1;33m    from import profile\u001b[0m\n\u001b[1;37m              ^\u001b[0m\n\u001b[1;31mSyntaxError\u001b[0m\u001b[1;31m:\u001b[0m invalid syntax\n"
     ]
    }
   ],
   "source": [
    "#Rex's Precision Profiler code\n",
    "import matplotlib.pyplot as plt\n",
    "import numpy as np\n",
    "import torch\n",
    "import torchvision\n",
    "from torch import nn\n",
    "\n",
    "from thop import clever_format\n",
    "from import profile\n",
    "\n",
    "\n",
    "def complexity_bar_graph(per_layer_complexity_data, file_prefix):\n",
    "    mac_data = []\n",
    "    params_data = []\n",
    "    act_data = []\n",
    "    dp_data = []\n",
    "    weight_reuse = []\n",
    "    input_reuse = []\n",
    "\n",
    "    for compute_layer in per_layer_complexity_data:\n",
    "        mac_data.append(compute_layer[1])\n",
    "        params_data.append(compute_layer[2])\n",
    "        act_data.append(compute_layer[3])\n",
    "        dp_data.append(compute_layer[4])\n",
    "        weight_reuse.append(compute_layer[5])\n",
    "        input_reuse.append(compute_layer[6])\n",
    "\n",
    "#     fig = plt.figure(figsize=(20, 10))\n",
    "#     ax = fig.add_subplot(111)\n",
    "#     ax.bar(np.arange(len(act_data)) - 0.125, act_data, width=0.25, label='activation')\n",
    "#     ax.bar(np.arange(len(act_data)) + 0.125, input_reuse, width=0.25, label='data reuse')\n",
    "#     ax.set_title('number of activation per layer and input reuse factor', fontsize=35)\n",
    "#     ax.tick_params(axis=\"x\", labelsize=35)\n",
    "#     ax.tick_params(axis=\"y\", labelsize=35)\n",
    "#     ax.set_xlabel('layer idx', fontsize=35)\n",
    "#     ax.set_yscale('log')\n",
    "#     ax.grid()\n",
    "#     ax.legend(fontsize=25)\n",
    "#     plt.savefig(file_prefix + 'act.png')\n",
    "\n",
    "#     fig = plt.figure(figsize=(20, 10))\n",
    "#     ax = fig.add_subplot(111)\n",
    "#     ax.bar(np.arange(len(params_data)) - 0.125, params_data, width=0.25, label='weights')\n",
    "#     ax.bar(np.arange(len(weight_reuse)) + 0.125, weight_reuse, width=0.25, label='weight reuse')\n",
    "#     ax.set_yscale('log')\n",
    "#     ax.set_title('number of weights per layer and weight reuse factor', fontsize=35)\n",
    "#     ax.tick_params(axis=\"x\", labelsize=35)\n",
    "#     ax.tick_params(axis=\"y\", labelsize=35)\n",
    "#     ax.set_xlabel('layer idx', fontsize=35)\n",
    "#     ax.grid()\n",
    "#     ax.legend(fontsize=25)\n",
    "#     plt.savefig(file_prefix + 'weights.png')\n",
    "\n",
    "#     fig = plt.figure(figsize=(20, 10))\n",
    "#     ax = fig.add_subplot(111)\n",
    "#     ax.bar(np.arange(len(dp_data)), dp_data, width=0.5)\n",
    "#     ax.set_yscale('log')\n",
    "#     ax.set_title('number of DP per layer', fontsize=35)\n",
    "#     ax.tick_params(axis=\"x\", labelsize=35)\n",
    "#     ax.tick_params(axis=\"y\", labelsize=35)\n",
    "#     ax.set_xlabel('layer idx', fontsize=35)\n",
    "#     ax.grid()\n",
    "#     plt.savefig(file_prefix + 'dp.png')\n",
    "\n",
    "#     fig = plt.figure(figsize=(20, 10))\n",
    "#     ax = fig.add_subplot(111)\n",
    "#     ax.bar(np.arange(len(mac_data)), mac_data, width=0.5)\n",
    "#     ax.set_yscale('log')\n",
    "#     ax.set_title('number of MAC per layer', fontsize=35)\n",
    "#     ax.tick_params(axis=\"x\", labelsize=35)\n",
    "#     ax.tick_params(axis=\"y\", labelsize=35)\n",
    "#     ax.set_xlabel('layer idx', fontsize=35)\n",
    "#     ax.grid()\n",
    "#     plt.savefig(file_prefix + 'mac.png')\n",
    "\n",
    "\n",
    "def profile_model(model, file_prefix):\n",
    "    input = torch.randn(1, 3, 224, 224)\n",
    "\n",
    "    macs, params, num_act, num_dp, per_compute_layer_complexity = profile(model, inputs=(input,))\n",
    "    storage = clever_format([(num_act + params) * 8 / 8], \"%.3f\")\n",
    "\n",
    "    macs, params, num_act, num_dp = clever_format([macs, params, num_act, num_dp], \"%.3f\")\n",
    "\n",
    "    print(\n",
    "        'activations:', num_act,\n",
    "        'weight:', params,\n",
    "        'num_dp:', num_dp,\n",
    "        'macs:', macs\n",
    "    )\n",
    "\n",
    "    complexity_bar_graph(per_compute_layer_complexity, file_prefix)\n",
    "\n",
    "\n",
    "\n",
    "model = torchvision.models.resnet18()\n",
    "file_prefix = 'resnet18_'\n",
    "# model = torchvision.models.vgg11()\n",
    "# file_prefix = 'vgg11_'\n",
    "# model = torchvision.models.vgg16()\n",
    "# file_prefix = 'vgg16_'\n",
    "# model = Net(10)\n",
    "# file_prefix='alex_cifar_'\n",
    "profile_model(model, file_prefix)\n"
   ]
  },
  {
   "cell_type": "code",
   "execution_count": 5,
   "metadata": {},
   "outputs": [],
   "source": [
    "model = torchvision.models.alexnet()\n",
    "f = open(\"alexnet.txt\",'w')\n",
    "f.write(str(model))\n",
    "f.close()"
   ]
  },
  {
   "cell_type": "code",
   "execution_count": 11,
   "metadata": {},
   "outputs": [
    {
     "name": "stdout",
     "output_type": "stream",
     "text": [
      "AlexNet(\n",
      "  (features): Sequential(\n",
      "    (0): Conv2d(3, 64, kernel_size=(11, 11), stride=(4, 4), padding=(2, 2))\n",
      "    (1): ReLU(inplace=True)\n",
      "    (2): MaxPool2d(kernel_size=3, stride=2, padding=0, dilation=1, ceil_mode=False)\n",
      "    (3): Conv2d(64, 192, kernel_size=(5, 5), stride=(1, 1), padding=(2, 2))\n",
      "    (4): ReLU(inplace=True)\n",
      "    (5): MaxPool2d(kernel_size=3, stride=2, padding=0, dilation=1, ceil_mode=False)\n",
      "    (6): Conv2d(192, 384, kernel_size=(3, 3), stride=(1, 1), padding=(1, 1))\n",
      "    (7): ReLU(inplace=True)\n",
      "    (8): Conv2d(384, 256, kernel_size=(3, 3), stride=(1, 1), padding=(1, 1))\n",
      "    (9): ReLU(inplace=True)\n",
      "    (10): Conv2d(256, 256, kernel_size=(3, 3), stride=(1, 1), padding=(1, 1))\n",
      "    (11): ReLU(inplace=True)\n",
      "    (12): MaxPool2d(kernel_size=3, stride=2, padding=0, dilation=1, ceil_mode=False)\n",
      "  )\n",
      "  (avgpool): AdaptiveAvgPool2d(output_size=(6, 6))\n",
      "  (classifier): Sequential(\n",
      "    (0): Dropout(p=0.5, inplace=False)\n",
      "    (1): Linear(in_features=9216, out_features=4096, bias=True)\n",
      "    (2): ReLU(inplace=True)\n",
      "    (3): Dropout(p=0.5, inplace=False)\n",
      "    (4): Linear(in_features=4096, out_features=4096, bias=True)\n",
      "    (5): ReLU(inplace=True)\n",
      "    (6): Linear(in_features=4096, out_features=1000, bias=True)\n",
      "  )\n",
      ")\n",
      "8 [[3, 64, 11, 4], [64, 192, 5, 1], [192, 384, 3, 1], [384, 256, 3, 1], [256, 256, 3, 1], [9216, 4096], [4096, 4096], [4096, 1000]]\n"
     ]
    }
   ],
   "source": [
    "a_net = str(model)\n",
    "print(a_net)\n",
    "f = open(\"alexnet.txt\",'r')\n",
    "alex_layers = []\n",
    "for line in f:\n",
    "    text = line.split()\n",
    "    if len(text)>1 and ((\"Conv\" in text[1])): # or (\"Linear\" in text[1])):\n",
    "        #print(line)\n",
    "        #in_chan, out_chan, k_size, stride\n",
    "        if \"Conv\" in text[1]:\n",
    "            in_chan = int(text[1].split('(')[1][:-1])\n",
    "            #print(in_chan)\n",
    "            out_chan = int(text[2][:-1])\n",
    "            #print(out_chan)\n",
    "            k_size = int(text[3].split('(')[1][:-1]) #assumes square kernel\n",
    "            #print(k_size)\n",
    "            stride =  int(text[5].split('(')[1][:-1])\n",
    "            #print(stride)\n",
    "        alex_layers.append([in_chan,out_chan,k_size,stride])\n",
    "alex_layers.append([9216,4096])\n",
    "alex_layers.append([4096,4096])\n",
    "alex_layers.append([4096,1000])\n",
    "\n",
    "print(len(alex_layers),alex_layers)"
   ]
  },
  {
   "cell_type": "code",
   "execution_count": 15,
   "metadata": {},
   "outputs": [
    {
     "name": "stdout",
     "output_type": "stream",
     "text": [
      "Input Bytes: 45117416 Weight Bytes: 61090496 Total Read Bytes: 106207912\n"
     ]
    }
   ],
   "source": [
    "input_bytes = 0\n",
    "img_size = 224*224\n",
    "weight_bytes = 0\n",
    "for l in alex_layers:\n",
    "        if len(l)==4: \n",
    "            #convolutional layer\n",
    "            in_chan, out_chan, k_size, stride = l\n",
    "            input_bytes += in_chan * img_size\n",
    "            weight_bytes += in_chan * k_size * k_size * out_chan\n",
    "        else:\n",
    "            #linear layer\n",
    "            numrows, numcols = l\n",
    "            input_bytes += numcols\n",
    "            weight_bytes += numcols * numrows\n",
    "print(\"Input Bytes:\", input_bytes,\"Weight Bytes:\",weight_bytes, \"Total Read Bytes:\",input_bytes+weight_bytes)"
   ]
  },
  {
   "cell_type": "code",
   "execution_count": 35,
   "metadata": {},
   "outputs": [],
   "source": [
    "y = []\n",
    "x = []\n",
    "for beta in np.arange(1,10,.01):\n",
    "    x.append(beta)\n",
    "    y.append(0.00158708444 + 0.1976736/beta + 16.9932659/beta)\n",
    "    "
   ]
  },
  {
   "cell_type": "code",
   "execution_count": 50,
   "metadata": {},
   "outputs": [
    {
     "data": {
      "text/plain": [
       "Text(0.5,0,'$\\\\beta$')"
      ]
     },
     "execution_count": 50,
     "metadata": {},
     "output_type": "execute_result"
    },
    {
     "data": {
      "image/png": "[encoded data removed]",
      "text/plain": [
       "<Figure size 432x288 with 1 Axes>"
      ]
     },
     "metadata": {},
     "output_type": "display_data"
    }
   ],
   "source": [
    "plt.figure()\n",
    "plt.plot(x,y)\n",
    "plt.title(\"Inference Latency\")\n",
    "plt.ylabel(\"Latency (s)\")\n",
    "plt.xlabel(r'$\\beta$')"
   ]
  },
  {
   "cell_type": "code",
   "execution_count": 98,
   "metadata": {},
   "outputs": [
    {
     "data": {
      "text/plain": [
       "Text(0,0.5,'Energy per Decision (J/dec)')"
      ]
     },
     "execution_count": 98,
     "metadata": {},
     "output_type": "execute_result"
    },
    {
     "data": {
      "image/png": "[encoded data removed]",
      "text/plain": [
       "<Figure size 432x288 with 1 Axes>"
      ]
     },
     "metadata": {},
     "output_type": "display_data"
    },
    {
     "data": {
      "image/png": "[encoded data removed]",
      "text/plain": [
       "<Figure size 432x288 with 1 Axes>"
      ]
     },
     "metadata": {},
     "output_type": "display_data"
    }
   ],
   "source": [
    "# 1.6\n",
    "OIs = np.arange(10,100000,1)\n",
    "OIs = np.arange(10,500,1)\n",
    "\n",
    "PP = 450 * 10**9 #MAC latency (MACs/sec)\n",
    "BW = 50 * 10**6 / 8 #reading latency (byte/sec)\n",
    "CI = 714188000 # number of MACs\n",
    "Em = 80 * 10**-9 # energy for read (J/byte)\n",
    "Ep = .5 * 10**-12 #energy for a MAC (J/MAC)\n",
    "APs =[]\n",
    "Edecs=[]\n",
    "for oi in OIs:\n",
    "    APs.append(min(PP, oi * BW))\n",
    "    Edecs.append(CI * (Ep + Em / oi))\n",
    "    \n",
    "plt.figure()\n",
    "plt.plot(OIs,APs)\n",
    "plt.title(\"Roofline Plot\")\n",
    "plt.xlabel(\"Operational Intensity (MACs/byte)\")\n",
    "plt.ylabel(\"Attainable Performance (MACs/byte)\")\n",
    "\n",
    "plt.figure()\n",
    "plt.plot(OIs,Edecs)\n",
    "plt.title(\"Floorline Plot\")\n",
    "plt.xlabel(\"Operational Intensity (MACs/byte)\")\n",
    "plt.ylabel(\"Energy per Decision (J/dec)\")"
   ]
  },
  {
   "cell_type": "code",
   "execution_count": 90,
   "metadata": {},
   "outputs": [
    {
     "name": "stdout",
     "output_type": "stream",
     "text": [
      "0.0060705922865017135\n"
     ]
    }
   ],
   "source": [
    "print(Edecs[10000])"
   ]
  }
 ],
 "metadata": {
  "kernelspec": {
   "display_name": "Python 3",
   "language": "python",
   "name": "python3"
  },
  "language_info": {
   "codemirror_mode": {
    "name": "ipython",
    "version": 3
   },
   "file_extension": ".py",
   "mimetype": "text/x-python",
   "name": "python",
   "nbconvert_exporter": "python",
   "pygments_lexer": "ipython3",
   "version": "3.5.5"
  }
 },
 "nbformat": 4,
 "nbformat_minor": 2
}
