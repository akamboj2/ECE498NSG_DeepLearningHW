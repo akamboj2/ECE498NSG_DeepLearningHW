{
 "cells": [
  {
   "cell_type": "code",
   "execution_count": 66,
   "metadata": {},
   "outputs": [],
   "source": [
    "import numpy as np\n",
    "import matplotlib.pyplot as plt"
   ]
  },
  {
   "cell_type": "markdown",
   "metadata": {},
   "source": [
    "## Problem 2"
   ]
  },
  {
   "cell_type": "code",
   "execution_count": 67,
   "metadata": {},
   "outputs": [
    {
     "name": "stdout",
     "output_type": "stream",
     "text": [
      "[[3, 64, 7, 2], [64, 64, 3, 1], [64, 64, 3, 1], [64, 64, 3, 1], [64, 64, 3, 1], [64, 128, 3, 2], [128, 128, 3, 1], [64, 128, 1, 2], [128, 128, 3, 1], [128, 128, 3, 1], [128, 256, 3, 2], [256, 256, 3, 1], [128, 256, 1, 2], [256, 256, 3, 1], [256, 256, 3, 1], [256, 512, 3, 2], [512, 512, 3, 1], [256, 512, 1, 2], [512, 512, 3, 1], [512, 512, 3, 1], [512, 1000]]\n",
      "[[3, 64, 3, 1], [64, 128, 3, 1], [128, 256, 3, 1], [256, 256, 3, 1], [256, 512, 3, 1], [512, 512, 3, 1], [512, 512, 3, 1], [512, 512, 3, 1], [25088, 4096], [4096, 4096], [4096, 1000]]\n"
     ]
    },
    {
     "data": {
      "text/plain": [
       "'\\nTODO: \\n1) Do the same for above for VGG11! (Probs just copy paste and make a new array)\\n2) Calculate the Nl,Dl, Rla, Rlw\\n3) Finally do the compmutation in slide 7 here: https://courses.grainger.illinois.edu/ece498nsu/fa2020/secure/lectures/4-Finite-precision-DPs-2020-updated.pdf\\n\\n'"
      ]
     },
     "execution_count": 67,
     "metadata": {},
     "output_type": "execute_result"
    }
   ],
   "source": [
    "#stuff to do: write code to scan this string, and find conv, df, in, out of 2d\n",
    "f = open(\"Resnet18.txt\")\n",
    "res_layers = []\n",
    "for line in f:\n",
    "    text = line.split()\n",
    "    if len(text)>1 and ((\"Conv\" in text[1])): # or (\"Linear\" in text[1])):\n",
    "        #print(line)\n",
    "        #in_chan, out_chan, k_size, stride\n",
    "        if \"Conv\" in text[1]:\n",
    "            in_chan = int(text[1].split('(')[1][:-1])\n",
    "            #print(in_chan)\n",
    "            out_chan = int(text[2][:-1])\n",
    "            #print(out_chan)\n",
    "            k_size = int(text[3].split('(')[1][:-1]) #assumes square kernel\n",
    "            #print(k_size)\n",
    "            stride =  int(text[5].split('(')[1][:-1])\n",
    "            #print(stride)\n",
    "        res_layers.append([in_chan,out_chan,k_size,stride])\n",
    "res_layers.append([512,1000])\n",
    "print(res_layers)\n",
    "\n",
    "f2 = open(\"VGG11.txt\")\n",
    "vgg_layers = []\n",
    "for line in f2:\n",
    "    text = line.split()\n",
    "    if len(text)>1 and ((\"Conv\" in text[1])): # or (\"Linear\" in text[1])):\n",
    "        #print(line)\n",
    "        #in_chan, out_chan, k_size, stride\n",
    "        if \"Conv\" in text[1]:\n",
    "            in_chan = int(text[1].split('(')[1][:-1])\n",
    "            #print(in_chan)\n",
    "            out_chan = int(text[2][:-1])\n",
    "            #print(out_chan)\n",
    "            k_size = int(text[3].split('(')[1][:-1]) #assumes square kernel\n",
    "            #print(k_size)\n",
    "            stride =  int(text[5].split('(')[1][:-1])\n",
    "            #print(stride)\n",
    "        vgg_layers.append([in_chan,out_chan,k_size,stride])\n",
    "vgg_layers.append([25088,4096])\n",
    "vgg_layers.append([4096,4096])\n",
    "vgg_layers.append([4096,1000])\n",
    "print(vgg_layers)\n",
    "\n",
    "\"\"\"\n",
    "TODO: \n",
    "1) Do the same for above for VGG11! (Probs just copy paste and make a new array)\n",
    "2) Calculate the Nl,Dl, Rla, Rlw\n",
    "3) Finally do the compmutation in slide 7 here: https://courses.grainger.illinois.edu/ece498nsu/fa2020/secure/lectures/4-Finite-precision-DPs-2020-updated.pdf\n",
    "\n",
    "\"\"\""
   ]
  },
  {
   "cell_type": "code",
   "execution_count": 68,
   "metadata": {},
   "outputs": [
    {
     "name": "stdout",
     "output_type": "stream",
     "text": [
      "Resnet18:\n",
      "Computational Cost: 1,379,091,858,245.5996 \n",
      "Representational Cost: 184,419,200\n",
      "\n",
      "VGG11:\n",
      "Computational Cost: 1,251,552,292,824.7742 \n",
      "Representational Cost: 191,469,440\n"
     ]
    }
   ],
   "source": [
    "# for linear (numrow,numcols)\n",
    "# Nl Number of Dot Products is image_size^2*out_chan/stride in conv and len(col) aka numrows in linear\n",
    "# Dl dot product dim is kernalsize^2*in_chan and numcols in linear\n",
    "# Rla number of activations = out_chan*img_size^2 so numrows in linear\n",
    "# Rlw number of weightsRlw = k_size^2*in_chan*out_chan and numrows*numcols in linear\n",
    "\n",
    "#this assumes 32x32x3 input\n",
    "img_size = 32*32\n",
    "for NN in [res_layers,vgg_layers]:\n",
    "    CC, RC = 0, 0\n",
    "    for l in NN:\n",
    "        if len(l)==4: \n",
    "            #convolutional layer\n",
    "            in_chan, out_chan, k_size, stride = l\n",
    "            Nl = img_size * out_chan / stride\n",
    "            Dl = k_size**2 * in_chan\n",
    "            Rla = out_chan * img_size\n",
    "            Rlw = k_size**2 * in_chan*out_chan\n",
    "        else:\n",
    "            #linear layer\n",
    "            numrows, numcols = l\n",
    "            Nl = numrows\n",
    "            Dl = numcols\n",
    "            Rla = numrows\n",
    "            RLw = numrows*numcols\n",
    "        CC += Nl * (Dl * 10 * 10 + (Dl - 1) * (10 + 10 + np.log2(Dl) - 1))\n",
    "        RC += Rla * 10 + Rlw * 10\n",
    "    if NN == res_layers: \n",
    "        print(\"Resnet18:\")\n",
    "    else:\n",
    "        print(\"\\nVGG11:\")\n",
    "    print(\"Computational Cost:\",\"{:,}\".format(CC) ,\"\\nRepresentational Cost:\",\"{:,}\".format(RC))\n"
   ]
  },
  {
   "cell_type": "markdown",
   "metadata": {},
   "source": [
    "## Problem 3 -- in nn_inference_release folder"
   ]
  },
  {
   "cell_type": "code",
   "execution_count": 69,
   "metadata": {},
   "outputs": [
    {
     "ename": "FileNotFoundError",
     "evalue": "[Errno 2] No such file or directory: 'activation_dynamic_range.npy'",
     "output_type": "error",
     "traceback": [
      "\u001b[1;31m---------------------------------------------------------------------------\u001b[0m",
      "\u001b[1;31mFileNotFoundError\u001b[0m                         Traceback (most recent call last)",
      "\u001b[1;32m<ipython-input-69-baefe34e67e9>\u001b[0m in \u001b[0;36m<module>\u001b[1;34m()\u001b[0m\n\u001b[0;32m      2\u001b[0m \u001b[1;31m#3.1 you need dynamic ranges, then do quantization\u001b[0m\u001b[1;33m\u001b[0m\u001b[1;33m\u001b[0m\u001b[0m\n\u001b[0;32m      3\u001b[0m \u001b[1;31m#3.2 you need all four files\u001b[0m\u001b[1;33m\u001b[0m\u001b[1;33m\u001b[0m\u001b[0m\n\u001b[1;32m----> 4\u001b[1;33m \u001b[0mactivation_dr\u001b[0m\u001b[1;33m=\u001b[0m \u001b[0mnp\u001b[0m\u001b[1;33m.\u001b[0m\u001b[0mload\u001b[0m\u001b[1;33m(\u001b[0m\u001b[1;34m\"activation_dynamic_range.npy\"\u001b[0m\u001b[1;33m)\u001b[0m\u001b[1;33m\u001b[0m\u001b[0m\n\u001b[0m\u001b[0;32m      5\u001b[0m \u001b[1;31m#each index of the array corresponds to each layer and that will have maximum value given by\u001b[0m\u001b[1;33m\u001b[0m\u001b[1;33m\u001b[0m\u001b[0m\n\u001b[0;32m      6\u001b[0m \u001b[0mweight_dr\u001b[0m\u001b[1;33m=\u001b[0m\u001b[0mnp\u001b[0m\u001b[1;33m.\u001b[0m\u001b[0mload\u001b[0m\u001b[1;33m(\u001b[0m\u001b[1;34m\"weight_dynamic_range.npy\"\u001b[0m\u001b[1;33m)\u001b[0m\u001b[1;33m\u001b[0m\u001b[0m\n",
      "\u001b[1;32mc:\\users\\abhi kamboj\\anaconda2\\envs\\tensorflow\\lib\\site-packages\\numpy\\lib\\npyio.py\u001b[0m in \u001b[0;36mload\u001b[1;34m(file, mmap_mode, allow_pickle, fix_imports, encoding)\u001b[0m\n\u001b[0;32m    370\u001b[0m     \u001b[0mown_fid\u001b[0m \u001b[1;33m=\u001b[0m \u001b[1;32mFalse\u001b[0m\u001b[1;33m\u001b[0m\u001b[0m\n\u001b[0;32m    371\u001b[0m     \u001b[1;32mif\u001b[0m \u001b[0misinstance\u001b[0m\u001b[1;33m(\u001b[0m\u001b[0mfile\u001b[0m\u001b[1;33m,\u001b[0m \u001b[0mbasestring\u001b[0m\u001b[1;33m)\u001b[0m\u001b[1;33m:\u001b[0m\u001b[1;33m\u001b[0m\u001b[0m\n\u001b[1;32m--> 372\u001b[1;33m         \u001b[0mfid\u001b[0m \u001b[1;33m=\u001b[0m \u001b[0mopen\u001b[0m\u001b[1;33m(\u001b[0m\u001b[0mfile\u001b[0m\u001b[1;33m,\u001b[0m \u001b[1;34m\"rb\"\u001b[0m\u001b[1;33m)\u001b[0m\u001b[1;33m\u001b[0m\u001b[0m\n\u001b[0m\u001b[0;32m    373\u001b[0m         \u001b[0mown_fid\u001b[0m \u001b[1;33m=\u001b[0m \u001b[1;32mTrue\u001b[0m\u001b[1;33m\u001b[0m\u001b[0m\n\u001b[0;32m    374\u001b[0m     \u001b[1;32melif\u001b[0m \u001b[0mis_pathlib_path\u001b[0m\u001b[1;33m(\u001b[0m\u001b[0mfile\u001b[0m\u001b[1;33m)\u001b[0m\u001b[1;33m:\u001b[0m\u001b[1;33m\u001b[0m\u001b[0m\n",
      "\u001b[1;31mFileNotFoundError\u001b[0m: [Errno 2] No such file or directory: 'activation_dynamic_range.npy'"
     ]
    }
   ],
   "source": [
    "#4.3 --> Write down gradient and update equation!\n",
    "#3.1 you need dynamic ranges, then do quantization\n",
    "#3.2 you need all four files\n",
    "activation_dr= np.load(\"activation_dynamic_range.npy\") \n",
    "#each index of the array corresponds to each layer and that will have maximum value given by\n",
    "weight_dr=np.load(\"weight_dynamic_range.npy\")\n",
    "print(activation_dr)\n",
    "print(weight_dr)\n",
    "\n",
    "# 4 6 7, for any of the weights, put all weights in plot and give the numbers\n",
    "\"\"\"4) Hints:\n",
    "Plot the convergence curve means plot MSE convergence curve, and plot weights!\n",
    "convergence around 3.1, conversion around -.7 or -.8\n",
    "you will see many different values\n",
    "pay attention to initialization! That will change result a lot.\n",
    "\n",
    "if you use a lot of samples, it should match your analytic evaluation\n",
    "\"\"\"\n",
    "\n",
    "#p7 critical path delay, most amount of time you need to get to end. "
   ]
  },
  {
   "cell_type": "code",
   "execution_count": 70,
   "metadata": {},
   "outputs": [
    {
     "name": "stdout",
     "output_type": "stream",
     "text": [
      "[ 1.2  0.7  0.2 -0.3 -0.8]\n",
      "[[0. 0.]\n",
      " [0. 0.]\n",
      " [0. 0.]\n",
      " [0. 0.]\n",
      " [0. 0.]]\n"
     ]
    }
   ],
   "source": [
    "\n",
    "def UniformLevels(r,m):\n",
    "    #this will place levels at either end of r and uniformly between\n",
    "    return np.arange(-r,r+r/m,2*r/(m-1))\n",
    "    \n",
    "print(np.array([.2])-UniformLevels(1,5))\n",
    "print(np.zeros((5,2)))"
   ]
  },
  {
   "cell_type": "markdown",
   "metadata": {},
   "source": [
    "## Problem 4"
   ]
  },
  {
   "cell_type": "code",
   "execution_count": 127,
   "metadata": {},
   "outputs": [
    {
     "name": "stdout",
     "output_type": "stream",
     "text": [
      "Wegihts w1,w2,w3 -0.11024429611087815 -0.1498543605722989 0.0005167034825870353\n",
      "Final MSE Error: 1.1880123298148146\n"
     ]
    }
   ],
   "source": [
    "w1,w2,w3 = np.random.rand(), np.random.rand(), np.random.rand()\n",
    "n_samples = 10000\n",
    "x1,x2 = 0,0\n",
    "mu = .2\n",
    "\n",
    "xs = np.zeros((n_samples,2))\n",
    "for i in range(n_samples):\n",
    "    angle = np.pi * np.random.uniform(0, 2)\n",
    "    x1 = np.cos(angle)\n",
    "    x2 = np.sin(angle)\n",
    "    xs[i] = [x1,x2]\n",
    "\n",
    "\n",
    "errors = []\n",
    "weights = []\n",
    "\n",
    "for x1,x2 in xs:\n",
    "    #determine prediction\n",
    "    y1_t = w1*x1 + w2*x2\n",
    "    y1 = y1_t**2\n",
    "    y2_t = w3*y1\n",
    "    y2 = np.log(1+y2_t**2)\n",
    "    \n",
    "    #determine true value\n",
    "    y = np.arctan2(x2,x1)\n",
    "    \n",
    "    #error\n",
    "    errors.append((y-y2)**2)\n",
    "    \n",
    "    #update weights:\n",
    "    w1 += -mu*8*(y2-y)*y1_t*w3*x1*2*y2_t/(1+y2_t**2)\n",
    "    w2 += -mu*8*(y2-y)*y1_t*w3*x2*2*y2_t/(1+y2_t**2)\n",
    "    w3 += -mu*4*y1*(y2-y)*2*y2_t/(1+y2_t**2)\n",
    "    weights.append([w1,w2,w3])\n",
    "    \n",
    "#loop through xs,\n",
    "#determine the xs and ys\n",
    "#determine error\n",
    "\n",
    "#print(errors)\n",
    "print(\"Wegihts w1,w2,w3\", w1,w2,w3)\n",
    "\n",
    "# fig=plt.figure(figsize=(20,10))\n",
    "# ax=fig.add_subplot(111)\n",
    "# line1, = ax.plot(range(len(errors)), errors ,label='Prediction',linewidth=2,color='b',marker='o',markersize=10)\n",
    "# line2, = ax.plot(BWs,SQNR_eval,label='Simulation',linewidth=2,color='r',marker='s',markersize=10)\n",
    "# #plt.legend(handles=[line1],loc=0,fontsize=20)\n",
    "# ax.grid()\n",
    "# ax.set_title(\"Error convergence\")\n",
    "# ax.set_xlabel(r'Iterations',fontsize=20)\n",
    "# ax.set_ylabel('Error',fontsize=20)\n",
    "# ax.tick_params(axis='both',labelsize=15)\n",
    "# #ax.set_xticks(np.arange(1,20,2))\n",
    "# plt.show()\n",
    "\n",
    "print(\"Final MSE Error:\", errors[-1])"
   ]
  },
  {
   "cell_type": "code",
   "execution_count": 128,
   "metadata": {},
   "outputs": [
    {
     "name": "stdout",
     "output_type": "stream",
     "text": [
      "Wegihts w1,w2,w3 -0.11024429611087815 -0.1498543605722989 0.0005167034825870353\n",
      "Final MSE Error: 1.1880123298148146\n",
      "Average MSE Error of last 5000 iterations: 3.290079627615272\n"
     ]
    }
   ],
   "source": [
    "print(\"Wegihts w1,w2,w3\", w1,w2,w3)\n",
    "print(\"Final MSE Error:\", errors[-1])\n",
    "print(\"Average MSE Error of last 5000 iterations:\",sum(errors[-5000:])/5000 )"
   ]
  },
  {
   "cell_type": "code",
   "execution_count": 124,
   "metadata": {},
   "outputs": [
    {
     "name": "stdout",
     "output_type": "stream",
     "text": [
      "3.316446293977659\n"
     ]
    },
    {
     "data": {
      "text/plain": [
       "Text(0,0.5,'Weights')"
      ]
     },
     "execution_count": 124,
     "metadata": {},
     "output_type": "execute_result"
    },
    {
     "data": {
      "text/plain": [
       "<Figure size 432x288 with 0 Axes>"
      ]
     },
     "metadata": {},
     "output_type": "display_data"
    },
    {
     "data": {
      "image/png": "[encoded data removed]",
      "text/plain": [
       "<Figure size 1080x720 with 1 Axes>"
      ]
     },
     "metadata": {},
     "output_type": "display_data"
    },
    {
     "data": {
      "text/plain": [
       "<Figure size 432x288 with 0 Axes>"
      ]
     },
     "metadata": {},
     "output_type": "display_data"
    },
    {
     "data": {
      "image/png": "[encoded data removed]",
      "text/plain": [
       "<Figure size 1080x720 with 1 Axes>"
      ]
     },
     "metadata": {},
     "output_type": "display_data"
    }
   ],
   "source": [
    "plt.figure()\n",
    "plt.figure(figsize=(15,10))\n",
    "plt.plot(range(len(errors)), errors)\n",
    "plt.title(\"Convergence of MSE\")\n",
    "plt.xlabel(\"Iterations\")\n",
    "plt.ylabel(\"MSE\")\n",
    "print(sum(errors[-5000:])/5000)\n",
    "\n",
    "#print(errors[-500:])\n",
    "plt.figure()\n",
    "plt.figure(figsize=(15,10))\n",
    "plt.plot(range(len(weights)), weights)\n",
    "plt.legend([\"w1\",\"w2\",\"w3\"])\n",
    "plt.title(\"Convergence of Weigths\")\n",
    "plt.xlabel(\"Iterations\")\n",
    "plt.ylabel(\"Weights\")\n"
   ]
  },
  {
   "cell_type": "markdown",
   "metadata": {},
   "source": [
    "## Question 6"
   ]
  },
  {
   "cell_type": "code",
   "execution_count": 206,
   "metadata": {},
   "outputs": [],
   "source": [
    "#note 3 tap means 3 previous values\n",
    "n_sample = 100000\n",
    "\n",
    "gn = [np.random.normal(),np.random.normal(),np.random.normal()]\n",
    "data = []\n",
    "for idx in range(3,n_sample+3):\n",
    "    g = np.random.normal()\n",
    "    gn.append(g)\n",
    "    data.append(.1*g+.5*gn[idx-1]-.5*gn[idx-2]+.1*gn[idx-3]) # x_[n] = u_[n] + 0.8*x_[n-1]\n",
    "\n",
    "X = []\n",
    "y = []\n",
    "for three_sample_before, two_sample_before, one_sample_before, curr in zip(data[0:-3:], data[1:-2:], data[2:-1:],data[3::]):\n",
    "    vector1 = np.array([one_sample_before, two_sample_before, three_sample_before]) \n",
    "    vector2 = np.array([curr, one_sample_before, two_sample_before]) # for R\n",
    "    X.append(vector1)\n",
    "    y.append(curr)\n",
    "\n",
    "X = np.vstack(X)\n",
    "y = np.array(y)"
   ]
  },
  {
   "cell_type": "code",
   "execution_count": 207,
   "metadata": {},
   "outputs": [
    {
     "data": {
      "text/plain": [
       "Text(0,0.5,'MSE')"
      ]
     },
     "execution_count": 207,
     "metadata": {},
     "output_type": "execute_result"
    },
    {
     "data": {
      "text/plain": [
       "<Figure size 432x288 with 0 Axes>"
      ]
     },
     "metadata": {},
     "output_type": "display_data"
    },
    {
     "data": {
      "image/png": "[encoded data removed]",
      "text/plain": [
       "<Figure size 1080x720 with 1 Axes>"
      ]
     },
     "metadata": {},
     "output_type": "display_data"
    }
   ],
   "source": [
    "#for mu in np.arange(0,6.01,.01):\n",
    "w = np.random.rand(1,3)\n",
    "errors = []\n",
    "weights = []\n",
    "mu = .4\n",
    "ensemble_size = 1000\n",
    "for idx, x in enumerate(X):\n",
    "    #determine prediction\n",
    "   # print(\"X,w,x_hat\",x,w,x_hat)\n",
    "    x_hat = np.dot(w,x)\n",
    "\n",
    "    #find error\n",
    "    errors.append((x_hat-y[idx])**2)\n",
    "\n",
    "    #update weights\n",
    "    w += -mu*2*(x_hat-y[idx])*x\n",
    "    #print(\"y,w\",y[idx],w)\n",
    "    weights.append(w)\n",
    "\n",
    "#print(mu,w)\n",
    "\n",
    "\n",
    "plt.figure()\n",
    "plt.figure(figsize=(15,10))\n",
    "plt.plot(range(len(errors)), errors)\n",
    "plt.title(\"Convergence of MSE\")\n",
    "plt.xlabel(\"Iterations\")\n",
    "plt.ylabel(\"MSE\")\n"
   ]
  },
  {
   "cell_type": "code",
   "execution_count": 200,
   "metadata": {},
   "outputs": [
    {
     "data": {
      "text/plain": [
       "array([0.  , 0.01, 0.02, 0.03, 0.04, 0.05, 0.06, 0.07, 0.08, 0.09, 0.1 ,\n",
       "       0.11, 0.12, 0.13, 0.14, 0.15, 0.16, 0.17, 0.18, 0.19, 0.2 , 0.21,\n",
       "       0.22, 0.23, 0.24, 0.25, 0.26, 0.27, 0.28, 0.29, 0.3 , 0.31, 0.32,\n",
       "       0.33, 0.34, 0.35, 0.36, 0.37, 0.38, 0.39, 0.4 , 0.41, 0.42, 0.43,\n",
       "       0.44, 0.45, 0.46, 0.47, 0.48, 0.49, 0.5 , 0.51, 0.52, 0.53, 0.54,\n",
       "       0.55, 0.56, 0.57, 0.58, 0.59, 0.6 , 0.61, 0.62, 0.63, 0.64, 0.65,\n",
       "       0.66, 0.67, 0.68, 0.69, 0.7 , 0.71, 0.72, 0.73, 0.74, 0.75, 0.76,\n",
       "       0.77, 0.78, 0.79, 0.8 , 0.81, 0.82, 0.83, 0.84, 0.85, 0.86, 0.87,\n",
       "       0.88, 0.89, 0.9 , 0.91, 0.92, 0.93, 0.94, 0.95, 0.96, 0.97, 0.98,\n",
       "       0.99, 1.  , 1.01, 1.02, 1.03, 1.04, 1.05, 1.06, 1.07, 1.08, 1.09,\n",
       "       1.1 , 1.11, 1.12, 1.13, 1.14, 1.15, 1.16, 1.17, 1.18, 1.19, 1.2 ,\n",
       "       1.21, 1.22, 1.23, 1.24, 1.25, 1.26, 1.27, 1.28, 1.29, 1.3 , 1.31,\n",
       "       1.32, 1.33, 1.34, 1.35, 1.36, 1.37, 1.38, 1.39, 1.4 , 1.41, 1.42,\n",
       "       1.43, 1.44, 1.45, 1.46, 1.47, 1.48, 1.49, 1.5 , 1.51, 1.52, 1.53,\n",
       "       1.54, 1.55, 1.56, 1.57, 1.58, 1.59, 1.6 , 1.61, 1.62, 1.63, 1.64,\n",
       "       1.65, 1.66, 1.67, 1.68, 1.69, 1.7 , 1.71, 1.72, 1.73, 1.74, 1.75,\n",
       "       1.76, 1.77, 1.78, 1.79, 1.8 , 1.81, 1.82, 1.83, 1.84, 1.85, 1.86,\n",
       "       1.87, 1.88, 1.89, 1.9 , 1.91, 1.92, 1.93, 1.94, 1.95, 1.96, 1.97,\n",
       "       1.98, 1.99, 2.  , 2.01, 2.02, 2.03, 2.04, 2.05, 2.06, 2.07, 2.08,\n",
       "       2.09, 2.1 , 2.11, 2.12, 2.13, 2.14, 2.15, 2.16, 2.17, 2.18, 2.19,\n",
       "       2.2 , 2.21, 2.22, 2.23, 2.24, 2.25, 2.26, 2.27, 2.28, 2.29, 2.3 ,\n",
       "       2.31, 2.32, 2.33, 2.34, 2.35, 2.36, 2.37, 2.38, 2.39, 2.4 , 2.41,\n",
       "       2.42, 2.43, 2.44, 2.45, 2.46, 2.47, 2.48, 2.49, 2.5 , 2.51, 2.52,\n",
       "       2.53, 2.54, 2.55, 2.56, 2.57, 2.58, 2.59, 2.6 , 2.61, 2.62, 2.63,\n",
       "       2.64, 2.65, 2.66, 2.67, 2.68, 2.69, 2.7 , 2.71, 2.72, 2.73, 2.74,\n",
       "       2.75, 2.76, 2.77, 2.78, 2.79, 2.8 , 2.81, 2.82, 2.83, 2.84, 2.85,\n",
       "       2.86, 2.87, 2.88, 2.89, 2.9 , 2.91, 2.92, 2.93, 2.94, 2.95, 2.96,\n",
       "       2.97, 2.98, 2.99, 3.  , 3.01, 3.02, 3.03, 3.04, 3.05, 3.06, 3.07,\n",
       "       3.08, 3.09, 3.1 , 3.11, 3.12, 3.13, 3.14, 3.15, 3.16, 3.17, 3.18,\n",
       "       3.19, 3.2 , 3.21, 3.22, 3.23, 3.24, 3.25, 3.26, 3.27, 3.28, 3.29,\n",
       "       3.3 , 3.31, 3.32, 3.33, 3.34, 3.35, 3.36, 3.37, 3.38, 3.39, 3.4 ,\n",
       "       3.41, 3.42, 3.43, 3.44, 3.45, 3.46, 3.47, 3.48, 3.49, 3.5 , 3.51,\n",
       "       3.52, 3.53, 3.54, 3.55, 3.56, 3.57, 3.58, 3.59, 3.6 , 3.61, 3.62,\n",
       "       3.63, 3.64, 3.65, 3.66, 3.67, 3.68, 3.69, 3.7 , 3.71, 3.72, 3.73,\n",
       "       3.74, 3.75, 3.76, 3.77, 3.78, 3.79, 3.8 , 3.81, 3.82, 3.83, 3.84,\n",
       "       3.85, 3.86, 3.87, 3.88, 3.89, 3.9 , 3.91, 3.92, 3.93, 3.94, 3.95,\n",
       "       3.96, 3.97, 3.98, 3.99, 4.  , 4.01, 4.02, 4.03, 4.04, 4.05, 4.06,\n",
       "       4.07, 4.08, 4.09, 4.1 , 4.11, 4.12, 4.13, 4.14, 4.15, 4.16, 4.17,\n",
       "       4.18, 4.19, 4.2 , 4.21, 4.22, 4.23, 4.24, 4.25, 4.26, 4.27, 4.28,\n",
       "       4.29, 4.3 , 4.31, 4.32, 4.33, 4.34, 4.35, 4.36, 4.37, 4.38, 4.39,\n",
       "       4.4 , 4.41, 4.42, 4.43, 4.44, 4.45, 4.46, 4.47, 4.48, 4.49, 4.5 ,\n",
       "       4.51, 4.52, 4.53, 4.54, 4.55, 4.56, 4.57, 4.58, 4.59, 4.6 , 4.61,\n",
       "       4.62, 4.63, 4.64, 4.65, 4.66, 4.67, 4.68, 4.69, 4.7 , 4.71, 4.72,\n",
       "       4.73, 4.74, 4.75, 4.76, 4.77, 4.78, 4.79, 4.8 , 4.81, 4.82, 4.83,\n",
       "       4.84, 4.85, 4.86, 4.87, 4.88, 4.89, 4.9 , 4.91, 4.92, 4.93, 4.94,\n",
       "       4.95, 4.96, 4.97, 4.98, 4.99, 5.  , 5.01, 5.02, 5.03, 5.04, 5.05,\n",
       "       5.06, 5.07, 5.08, 5.09, 5.1 , 5.11, 5.12, 5.13, 5.14, 5.15, 5.16,\n",
       "       5.17, 5.18, 5.19, 5.2 , 5.21, 5.22, 5.23, 5.24, 5.25, 5.26, 5.27,\n",
       "       5.28, 5.29, 5.3 , 5.31, 5.32, 5.33, 5.34, 5.35, 5.36, 5.37, 5.38,\n",
       "       5.39, 5.4 , 5.41, 5.42, 5.43, 5.44, 5.45, 5.46, 5.47, 5.48, 5.49,\n",
       "       5.5 , 5.51, 5.52, 5.53, 5.54, 5.55, 5.56, 5.57, 5.58, 5.59, 5.6 ,\n",
       "       5.61, 5.62, 5.63, 5.64, 5.65, 5.66, 5.67, 5.68, 5.69, 5.7 , 5.71,\n",
       "       5.72, 5.73, 5.74, 5.75, 5.76, 5.77, 5.78, 5.79, 5.8 , 5.81, 5.82,\n",
       "       5.83, 5.84, 5.85, 5.86, 5.87, 5.88, 5.89, 5.9 , 5.91, 5.92, 5.93,\n",
       "       5.94, 5.95, 5.96, 5.97, 5.98, 5.99, 6.  ])"
      ]
     },
     "execution_count": 200,
     "metadata": {},
     "output_type": "execute_result"
    }
   ],
   "source": [
    "np.arange(0,6.01,.05)"
   ]
  },
  {
   "cell_type": "code",
   "execution_count": null,
   "metadata": {},
   "outputs": [],
   "source": []
  }
 ],
 "metadata": {
  "kernelspec": {
   "display_name": "Python 3",
   "language": "python",
   "name": "python3"
  },
  "language_info": {
   "codemirror_mode": {
    "name": "ipython",
    "version": 3
   },
   "file_extension": ".py",
   "mimetype": "text/x-python",
   "name": "python",
   "nbconvert_exporter": "python",
   "pygments_lexer": "ipython3",
   "version": "3.5.5"
  }
 },
 "nbformat": 4,
 "nbformat_minor": 2
}
