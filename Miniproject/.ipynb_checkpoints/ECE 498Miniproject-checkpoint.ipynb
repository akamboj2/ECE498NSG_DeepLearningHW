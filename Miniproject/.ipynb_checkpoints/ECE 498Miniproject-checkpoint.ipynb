{
 "cells": [
  {
   "cell_type": "code",
   "execution_count": 2,
   "metadata": {},
   "outputs": [],
   "source": [
    "import numpy as np\n",
    "import matplotlib.pyplot as plt"
   ]
  },
  {
   "cell_type": "code",
   "execution_count": 3,
   "metadata": {},
   "outputs": [],
   "source": [
    "#here i genereate 1,000,000 data points using the generation model \n",
    "n_sample = 1000000\n",
    "gn = [np.random.normal(),np.random.normal(),np.random.normal()]\n",
    "data = []\n",
    "for idx in range(3,n_sample+3):\n",
    "    g = np.random.normal()\n",
    "    gn.append(g)\n",
    "    data.append(.1*g+.5*gn[idx-1]-.5*gn[idx-2]+.1*gn[idx-3]) # x_[n] = u_[n] + 0.8*x_[n-1]"
   ]
  },
  {
   "cell_type": "code",
   "execution_count": 5,
   "metadata": {},
   "outputs": [
    {
     "name": "stdout",
     "output_type": "stream",
     "text": [
      "Optimal Weights: [-0.68014248 -0.41424331 -0.17878953]\n",
      "Optimal MSE: 0.3513533155728955\n"
     ]
    }
   ],
   "source": [
    "# the following code obtains the optimal weights and MSE\n",
    "\n",
    "X = []\n",
    "y = []\n",
    "COV_X = []\n",
    "for three_sample_before, two_sample_before, one_sample_before, curr in zip(data[0:-3:], data[1:-2:], data[2:-1:],data[3::]):\n",
    "    vector1 = np.array([one_sample_before, two_sample_before, three_sample_before]) \n",
    "    vector2 = np.array([curr, one_sample_before, two_sample_before]) # for R\n",
    "    X.append(vector1)\n",
    "    y.append(curr)\n",
    "    COV_X.append(vector2)\n",
    "X = np.vstack(X)\n",
    "y = np.array(y)\n",
    "COV_X = np.vstack(COV_X)\n",
    "\n",
    "\n",
    "R = np.cov(COV_X.T)\n",
    "p = y.dot(X)/len(y)\n",
    "w = np.linalg.inv(R).dot(p)\n",
    "prediction = X.dot(w)\n",
    "print(\"Optimal Weights:\",w)\n",
    "error = y.dot(y)/n_sample - p.dot(w)\n",
    "print(\"Optimal MSE:\",error)"
   ]
  },
  {
   "cell_type": "code",
   "execution_count": 44,
   "metadata": {},
   "outputs": [
    {
     "name": "stdout",
     "output_type": "stream",
     "text": [
      "Optimal MSE: 0.3513533155728955\n",
      "Optimal SNR (dB): 1.698789959975315\n",
      "Bits \t| MSE \t| SQNR\t|SQNR-SNR|\tWithin .5dB of SNR?\n",
      "1.0000\t|0.5718\t|-1.896\t|3.5949|\tNO\n",
      "2.0000\t|0.4453\t|-0.053\t|1.7515|\tNO\n",
      "3.0000\t|0.3851\t|0.900\t|0.7987|\tNO\n",
      "4.0000\t|0.3698\t|1.208\t|0.4906|\tYES\n",
      "5.0000\t|0.3654\t|1.312\t|0.3870|\tYES\n",
      "6.0000\t|0.3634\t|1.357\t|0.3417|\tYES\n",
      "7.0000\t|0.3627\t|1.375\t|0.3239|\tYES\n",
      "8.0000\t|0.3625\t|1.383\t|0.3162|\tYES\n",
      "9.0000\t|0.3623\t|1.387\t|0.3121|\tYES\n",
      "10.0000\t|0.3623\t|1.389\t|0.3101|\tYES\n",
      "11.0000\t|0.3622\t|1.390\t|0.3091|\tYES\n",
      "12.0000\t|0.3622\t|1.390\t|0.3085|\tYES\n",
      "13.0000\t|0.3622\t|1.391\t|0.3082|\tYES\n",
      "14.0000\t|0.3622\t|1.391\t|0.3081|\tYES\n",
      "15.0000\t|0.3622\t|1.391\t|0.3081|\tYES\n",
      "16.0000\t|0.3622\t|1.391\t|0.3080|\tYES\n"
     ]
    }
   ],
   "source": [
    "# here are some helper functions\n",
    "def quantize(values,BW):\n",
    "    quant = np.minimum(np.round(np.array(values)*np.power(2.0,BW-1.0))*np.power(2.0,1.0-BW),1.0-np.power(2.0,1.0-BW))\n",
    "    return quant\n",
    "\n",
    "def calc_MSE(x,x_hat):\n",
    "    #here x is true values, x_hat is prediction\n",
    "        return np.sum(np.square(np.array(x) - np.array(x_hat)))/n_sample\n",
    "\n",
    "def evaluate_sqnr(data, dq,mserr):    \n",
    "    SNR = 10*np.log10(np.true_divide(np.sum(np.var(data)),np.sum(np.var(np.array(data) - np.array(dq)))+mserr))\n",
    "    return SNR\n",
    "\n",
    "def predict(wq,xq):\n",
    "    x_hats = np.matmul(xq,np.transpose(wq))\n",
    "    mse = calc_MSE(y,x_hats)\n",
    "    return mse\n",
    "    \n",
    "\n",
    "#first without quantizing:\n",
    "print(\"Optimal MSE:\",error)\n",
    "optimal_SNR = 10*np.log10(np.var(y)/error)\n",
    "print(\"Optimal SNR (dB):\", optimal_SNR)\n",
    "\n",
    "#now quantize for various bit precisions\n",
    "precisions = np.arange(1,17,1)\n",
    "\n",
    "print(\"Bits \\t| MSE \\t| SQNR\\t|SQNR-SNR|\\tWithin .5dB of SNR?\")\n",
    "MSEs = []\n",
    "sqnrs = []\n",
    "for BW in precisions:\n",
    "    wq = quantize(w,BW)\n",
    "    dq = quantize(X,BW)\n",
    "    MSE = predict(wq,dq)\n",
    "    MSEs.append(MSE)\n",
    "    sqnr = evaluate_sqnr(X,dq,MSE)\n",
    "    sqnrs.append(sqnr)\n",
    "    print(\"{:.4f}\\t|{:.4f}\\t|{:.3f}\\t|{:.4f}|\\t{}\".format(BW,MSE,sqnr,abs(sqnr-optimal_SNR),\"YES\" if abs(sqnr-optimal_SNR)<=.5 else \"NO\"))\n"
   ]
  },
  {
   "cell_type": "code",
   "execution_count": 28,
   "metadata": {},
   "outputs": [
    {
     "data": {
      "text/plain": [
       "<matplotlib.legend.Legend at 0x17a0a5b5198>"
      ]
     },
     "execution_count": 28,
     "metadata": {},
     "output_type": "execute_result"
    },
    {
     "data": {
      "image/png": "[encoded data removed]",
      "text/plain": [
       "<Figure size 432x288 with 1 Axes>"
      ]
     },
     "metadata": {},
     "output_type": "display_data"
    }
   ],
   "source": [
    "# we can also plot the MSE and SQNRs across different bit widths\n",
    "plt.figure()\n",
    "plt.plot(precisions, MSEs, label = \"fixed-point MSE\")\n",
    "plt.title(\"MSE vs Precision\")\n",
    "plt.xlabel(\"# of Bits\")\n",
    "plt.ylabel(\"MSE\")\n",
    "plt.plot(precisions,[error]*len(precisions),label = \"optimal floating-point MSE\")\n",
    "plt.legend()"
   ]
  },
  {
   "cell_type": "code",
   "execution_count": 47,
   "metadata": {},
   "outputs": [
    {
     "data": {
      "text/plain": [
       "<matplotlib.legend.Legend at 0x17a0a48c9e8>"
      ]
     },
     "execution_count": 47,
     "metadata": {},
     "output_type": "execute_result"
    },
    {
     "data": {
      "image/png": "[encoded data removed]",
      "text/plain": [
       "<Figure size 432x288 with 1 Axes>"
      ]
     },
     "metadata": {},
     "output_type": "display_data"
    }
   ],
   "source": [
    "plt.figure()\n",
    "plt.plot(precisions, sqnrs, label = \"fixed-point SQNR\")\n",
    "plt.title(\"Signal to Noise Ratio vs Precision\")\n",
    "plt.xlabel(\"# of Bits\")\n",
    "plt.ylabel(\"MSE\")\n",
    "plt.plot(precisions,[optimal_SNR]*len(precisions),label = \"optimal floating-point SNR\")\n",
    "plt.legend()"
   ]
  },
  {
   "cell_type": "code",
   "execution_count": 81,
   "metadata": {},
   "outputs": [
    {
     "name": "stdout",
     "output_type": "stream",
     "text": [
      "[12.  8.  4.] [-10.  -6.  -2.]\n",
      "-0.6875 -0.7638763927922381\n"
     ]
    }
   ],
   "source": [
    "#verilog confirmation:\n",
    "xs = np.array([np.array([0.73500254,  0.55186864,  0.19778589]),[-0.69549231, 0.73500254,  0.55186864]])\n",
    "y_dec= [-0.69549231, -0.66702645]\n",
    "ws_quant = quantize(w,4)*16\n",
    "for x in xs[:-1]:\n",
    "    xs_quant = quantize(x,4)\n",
    "    print(xs_quant*16,ws_quant)\n",
    "    xs_quant = xs_quant*16\n",
    "    print(xs_quant.dot(ws_quant)/256,x.dot(w))"
   ]
  },
  {
   "cell_type": "code",
   "execution_count": 83,
   "metadata": {},
   "outputs": [
    {
     "name": "stdout",
     "output_type": "stream",
     "text": [
      "-0.6875 -0.7638763927922381\n"
     ]
    }
   ],
   "source": [
    "xs = np.array([0.73500254,  0.55186864,  0.19778589])\n",
    "print(\"Floating point dot-product:\", xs.dot(w))"
   ]
  }
 ],
 "metadata": {
  "kernelspec": {
   "display_name": "Python 3",
   "language": "python",
   "name": "python3"
  },
  "language_info": {
   "codemirror_mode": {
    "name": "ipython",
    "version": 3
   },
   "file_extension": ".py",
   "mimetype": "text/x-python",
   "name": "python",
   "nbconvert_exporter": "python",
   "pygments_lexer": "ipython3",
   "version": "3.5.6"
  }
 },
 "nbformat": 4,
 "nbformat_minor": 2
}
